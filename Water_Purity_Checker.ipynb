{
  "nbformat": 4,
  "nbformat_minor": 0,
  "metadata": {
    "colab": {
      "name": "Water Purity Checker.ipynb",
      "provenance": [],
      "collapsed_sections": [],
      "authorship_tag": "ABX9TyMR7QlnFPlEVLziGnpuVpRA",
      "include_colab_link": true
    },
    "kernelspec": {
      "name": "python3",
      "display_name": "Python 3"
    },
    "language_info": {
      "name": "python"
    }
  },
  "cells": [
    {
      "cell_type": "markdown",
      "metadata": {
        "id": "view-in-github",
        "colab_type": "text"
      },
      "source": [
        "<a href=\"https://colab.research.google.com/github/PandiRaja18/ML-Projects/blob/main/Water_Purity_Checker.ipynb\" target=\"_parent\"><img src=\"https://colab.research.google.com/assets/colab-badge.svg\" alt=\"Open In Colab\"/></a>"
      ]
    },
    {
      "cell_type": "code",
      "execution_count": null,
      "metadata": {
        "id": "-H5taKGPC1Co"
      },
      "outputs": [],
      "source": [
        "import pandas as pd\n",
        "import numpy as np\n",
        "from IPython.display import Image\n",
        "from sklearn.model_selection import train_test_split\n",
        "import tensorflow as tf\n",
        "from tensorflow import keras\n",
        "from tensorflow.keras import layers\n",
        "import matplotlib.pyplot as plt\n",
        "from sklearn.preprocessing import MinMaxScaler\n",
        "from keras.layers import Dropout"
      ]
    },
    {
      "cell_type": "code",
      "source": [
        "#Loading the dataset water_potability.csv with pandas\n",
        "df = pd.read_csv('ANN Complete Matrix for three dyes.csv')"
      ],
      "metadata": {
        "id": "X112kD3IC4c1"
      },
      "execution_count": null,
      "outputs": []
    },
    {
      "cell_type": "code",
      "source": [
        "df.head()"
      ],
      "metadata": {
        "colab": {
          "base_uri": "https://localhost:8080/",
          "height": 206
        },
        "id": "UkT6K6BxFBF6",
        "outputId": "2b1f599d-9b18-4649-fc49-945a5f12300f"
      },
      "execution_count": null,
      "outputs": [
        {
          "output_type": "execute_result",
          "data": {
            "text/plain": [
              "   Conc of H2O2 (mM)  Dose of gamma ray  (kGy)  pH  \\\n",
              "0                0.0                         0   3   \n",
              "1                0.0                         0   5   \n",
              "2                0.0                         0   7   \n",
              "3                0.0                         0   9   \n",
              "4                0.0                         0  11   \n",
              "\n",
              "   Concentration of dye (mg/L)  Response  \n",
              "0                          100       0.0  \n",
              "1                          100       0.0  \n",
              "2                          100       0.0  \n",
              "3                          100       0.0  \n",
              "4                          100       0.0  "
            ],
            "text/html": [
              "\n",
              "  <div id=\"df-cb4a9143-fd86-4665-b2ca-a36abafe57f1\">\n",
              "    <div class=\"colab-df-container\">\n",
              "      <div>\n",
              "<style scoped>\n",
              "    .dataframe tbody tr th:only-of-type {\n",
              "        vertical-align: middle;\n",
              "    }\n",
              "\n",
              "    .dataframe tbody tr th {\n",
              "        vertical-align: top;\n",
              "    }\n",
              "\n",
              "    .dataframe thead th {\n",
              "        text-align: right;\n",
              "    }\n",
              "</style>\n",
              "<table border=\"1\" class=\"dataframe\">\n",
              "  <thead>\n",
              "    <tr style=\"text-align: right;\">\n",
              "      <th></th>\n",
              "      <th>Conc of H2O2 (mM)</th>\n",
              "      <th>Dose of gamma ray  (kGy)</th>\n",
              "      <th>pH</th>\n",
              "      <th>Concentration of dye (mg/L)</th>\n",
              "      <th>Response</th>\n",
              "    </tr>\n",
              "  </thead>\n",
              "  <tbody>\n",
              "    <tr>\n",
              "      <th>0</th>\n",
              "      <td>0.0</td>\n",
              "      <td>0</td>\n",
              "      <td>3</td>\n",
              "      <td>100</td>\n",
              "      <td>0.0</td>\n",
              "    </tr>\n",
              "    <tr>\n",
              "      <th>1</th>\n",
              "      <td>0.0</td>\n",
              "      <td>0</td>\n",
              "      <td>5</td>\n",
              "      <td>100</td>\n",
              "      <td>0.0</td>\n",
              "    </tr>\n",
              "    <tr>\n",
              "      <th>2</th>\n",
              "      <td>0.0</td>\n",
              "      <td>0</td>\n",
              "      <td>7</td>\n",
              "      <td>100</td>\n",
              "      <td>0.0</td>\n",
              "    </tr>\n",
              "    <tr>\n",
              "      <th>3</th>\n",
              "      <td>0.0</td>\n",
              "      <td>0</td>\n",
              "      <td>9</td>\n",
              "      <td>100</td>\n",
              "      <td>0.0</td>\n",
              "    </tr>\n",
              "    <tr>\n",
              "      <th>4</th>\n",
              "      <td>0.0</td>\n",
              "      <td>0</td>\n",
              "      <td>11</td>\n",
              "      <td>100</td>\n",
              "      <td>0.0</td>\n",
              "    </tr>\n",
              "  </tbody>\n",
              "</table>\n",
              "</div>\n",
              "      <button class=\"colab-df-convert\" onclick=\"convertToInteractive('df-cb4a9143-fd86-4665-b2ca-a36abafe57f1')\"\n",
              "              title=\"Convert this dataframe to an interactive table.\"\n",
              "              style=\"display:none;\">\n",
              "        \n",
              "  <svg xmlns=\"http://www.w3.org/2000/svg\" height=\"24px\"viewBox=\"0 0 24 24\"\n",
              "       width=\"24px\">\n",
              "    <path d=\"M0 0h24v24H0V0z\" fill=\"none\"/>\n",
              "    <path d=\"M18.56 5.44l.94 2.06.94-2.06 2.06-.94-2.06-.94-.94-2.06-.94 2.06-2.06.94zm-11 1L8.5 8.5l.94-2.06 2.06-.94-2.06-.94L8.5 2.5l-.94 2.06-2.06.94zm10 10l.94 2.06.94-2.06 2.06-.94-2.06-.94-.94-2.06-.94 2.06-2.06.94z\"/><path d=\"M17.41 7.96l-1.37-1.37c-.4-.4-.92-.59-1.43-.59-.52 0-1.04.2-1.43.59L10.3 9.45l-7.72 7.72c-.78.78-.78 2.05 0 2.83L4 21.41c.39.39.9.59 1.41.59.51 0 1.02-.2 1.41-.59l7.78-7.78 2.81-2.81c.8-.78.8-2.07 0-2.86zM5.41 20L4 18.59l7.72-7.72 1.47 1.35L5.41 20z\"/>\n",
              "  </svg>\n",
              "      </button>\n",
              "      \n",
              "  <style>\n",
              "    .colab-df-container {\n",
              "      display:flex;\n",
              "      flex-wrap:wrap;\n",
              "      gap: 12px;\n",
              "    }\n",
              "\n",
              "    .colab-df-convert {\n",
              "      background-color: #E8F0FE;\n",
              "      border: none;\n",
              "      border-radius: 50%;\n",
              "      cursor: pointer;\n",
              "      display: none;\n",
              "      fill: #1967D2;\n",
              "      height: 32px;\n",
              "      padding: 0 0 0 0;\n",
              "      width: 32px;\n",
              "    }\n",
              "\n",
              "    .colab-df-convert:hover {\n",
              "      background-color: #E2EBFA;\n",
              "      box-shadow: 0px 1px 2px rgba(60, 64, 67, 0.3), 0px 1px 3px 1px rgba(60, 64, 67, 0.15);\n",
              "      fill: #174EA6;\n",
              "    }\n",
              "\n",
              "    [theme=dark] .colab-df-convert {\n",
              "      background-color: #3B4455;\n",
              "      fill: #D2E3FC;\n",
              "    }\n",
              "\n",
              "    [theme=dark] .colab-df-convert:hover {\n",
              "      background-color: #434B5C;\n",
              "      box-shadow: 0px 1px 3px 1px rgba(0, 0, 0, 0.15);\n",
              "      filter: drop-shadow(0px 1px 2px rgba(0, 0, 0, 0.3));\n",
              "      fill: #FFFFFF;\n",
              "    }\n",
              "  </style>\n",
              "\n",
              "      <script>\n",
              "        const buttonEl =\n",
              "          document.querySelector('#df-cb4a9143-fd86-4665-b2ca-a36abafe57f1 button.colab-df-convert');\n",
              "        buttonEl.style.display =\n",
              "          google.colab.kernel.accessAllowed ? 'block' : 'none';\n",
              "\n",
              "        async function convertToInteractive(key) {\n",
              "          const element = document.querySelector('#df-cb4a9143-fd86-4665-b2ca-a36abafe57f1');\n",
              "          const dataTable =\n",
              "            await google.colab.kernel.invokeFunction('convertToInteractive',\n",
              "                                                     [key], {});\n",
              "          if (!dataTable) return;\n",
              "\n",
              "          const docLinkHtml = 'Like what you see? Visit the ' +\n",
              "            '<a target=\"_blank\" href=https://colab.research.google.com/notebooks/data_table.ipynb>data table notebook</a>'\n",
              "            + ' to learn more about interactive tables.';\n",
              "          element.innerHTML = '';\n",
              "          dataTable['output_type'] = 'display_data';\n",
              "          await google.colab.output.renderOutput(dataTable, element);\n",
              "          const docLink = document.createElement('div');\n",
              "          docLink.innerHTML = docLinkHtml;\n",
              "          element.appendChild(docLink);\n",
              "        }\n",
              "      </script>\n",
              "    </div>\n",
              "  </div>\n",
              "  "
            ]
          },
          "metadata": {},
          "execution_count": 6
        }
      ]
    },
    {
      "cell_type": "code",
      "source": [
        "df.describe()\n",
        "np.shape(df)"
      ],
      "metadata": {
        "colab": {
          "base_uri": "https://localhost:8080/"
        },
        "id": "tgKAjne7C72o",
        "outputId": "6ee4a02c-b50e-4826-8775-053ff402bb4a"
      },
      "execution_count": null,
      "outputs": [
        {
          "output_type": "execute_result",
          "data": {
            "text/plain": [
              "(750, 5)"
            ]
          },
          "metadata": {},
          "execution_count": 64
        }
      ]
    },
    {
      "cell_type": "code",
      "source": [
        "df.reset_index(inplace=True)\n",
        "df = df.drop(['index'],axis=1)"
      ],
      "metadata": {
        "id": "dmS0z1a1QRnu"
      },
      "execution_count": null,
      "outputs": []
    },
    {
      "cell_type": "code",
      "source": [
        "y = df['Response']\n",
        "X = df.drop(['Response'],axis=1)"
      ],
      "metadata": {
        "id": "O_rhUe5NE-IP"
      },
      "execution_count": null,
      "outputs": []
    },
    {
      "cell_type": "code",
      "source": [
        "scaler = MinMaxScaler()\n",
        "X = scaler.fit_transform(X)"
      ],
      "metadata": {
        "id": "CImLitiuI9BM"
      },
      "execution_count": null,
      "outputs": []
    },
    {
      "cell_type": "code",
      "source": [
        "X_train, X_test, y_train, y_test = train_test_split(X, y, test_size=0.10, random_state=0)\n",
        "print('Size Training Set: {}'.format(len(X_train)))\n",
        "print('Size Testing Set: {}'.format(len(X_test)))"
      ],
      "metadata": {
        "colab": {
          "base_uri": "https://localhost:8080/"
        },
        "id": "RVyT3bp8C81_",
        "outputId": "a2f84d3d-7a54-4106-a057-6b48cf78d4a2"
      },
      "execution_count": null,
      "outputs": [
        {
          "output_type": "stream",
          "name": "stdout",
          "text": [
            "Size Training Set: 675\n",
            "Size Testing Set: 75\n"
          ]
        }
      ]
    },
    {
      "cell_type": "code",
      "source": [
        "plt.plot(X,y)\n",
        "plt.title ('Test graph')\n",
        "plt.xlabel('x axis')\n",
        "plt.ylabel('y axis')\n",
        "plt.show()"
      ],
      "metadata": {
        "colab": {
          "base_uri": "https://localhost:8080/",
          "height": 295
        },
        "id": "61bT3sK7F8jq",
        "outputId": "b5d7546f-b885-4879-e02d-7a19ee60437c"
      },
      "execution_count": null,
      "outputs": [
        {
          "output_type": "display_data",
          "data": {
            "text/plain": [
              "<Figure size 432x288 with 1 Axes>"
            ],
            "image/png": "[encoded data removed]"
          },
          "metadata": {
            "needs_background": "light"
          }
        }
      ]
    },
    {
      "cell_type": "code",
      "source": [
        "from tensorflow.keras.callbacks import EarlyStopping\n",
        "from tensorflow.keras.models import Sequential\n",
        "model = Sequential()\n",
        "\n",
        "model.add(layers.Dense(128, input_dim = 4))\n",
        "model.add(Dropout(0.4))\n",
        "model.add(layers.Dense(64,activation='relu'))\n",
        "model.add(Dropout(0.4))\n",
        "model.add(layers.Dense(64,activation='relu'))\n",
        "model.add(Dropout(0.4))\n",
        "model.add(layers.Dense(32, activation='relu'))\n",
        "model.add(Dropout(0.4))\n",
        "model.add(layers.Dense(32,activation='relu'))\n",
        "model.add(Dropout(0.45))\n",
        "model.add(layers.Dense(16,activation='relu'))\n",
        "model.add(Dropout(0.45))\n",
        "model.add(layers.Dense(1))"
      ],
      "metadata": {
        "id": "Z87QeJRvEM3I"
      },
      "execution_count": null,
      "outputs": []
    },
    {
      "cell_type": "code",
      "source": [
        "from pandas.core.arrays import categorical\n",
        "opt = keras.optimizers.Adam(learning_rate=0.0001)\n",
        "model.compile(loss='mean_absolute_error', optimizer=opt,metrics=['accuracy'])"
      ],
      "metadata": {
        "id": "K_kQZdg1FYR0"
      },
      "execution_count": null,
      "outputs": []
    },
    {
      "cell_type": "code",
      "source": [
        "history = model.fit(X_train, y_train, batch_size=16, epochs=50, validation_data=(X_test, y_test))"
      ],
      "metadata": {
        "colab": {
          "base_uri": "https://localhost:8080/"
        },
        "id": "ptWm87toG_xx",
        "outputId": "e27c4bac-3ca4-4fc5-a478-cbf865bc74ae"
      },
      "execution_count": null,
      "outputs": [
        {
          "output_type": "stream",
          "name": "stdout",
          "text": [
            "Epoch 1/50\n",
            "43/43 [==============================] - 2s 7ms/step - loss: 69.5631 - accuracy: 0.1037 - val_loss: 74.2269 - val_accuracy: 0.0667\n",
            "Epoch 2/50\n",
            "43/43 [==============================] - 0s 4ms/step - loss: 69.4404 - accuracy: 0.1007 - val_loss: 74.1482 - val_accuracy: 0.0667\n",
            "Epoch 3/50\n",
            "43/43 [==============================] - 0s 3ms/step - loss: 69.3709 - accuracy: 0.0963 - val_loss: 74.0821 - val_accuracy: 0.0667\n",
            "Epoch 4/50\n",
            "43/43 [==============================] - 0s 3ms/step - loss: 69.2836 - accuracy: 0.0904 - val_loss: 74.0046 - val_accuracy: 0.0667\n",
            "Epoch 5/50\n",
            "43/43 [==============================] - 0s 4ms/step - loss: 69.1715 - accuracy: 0.0815 - val_loss: 73.8765 - val_accuracy: 0.0667\n",
            "Epoch 6/50\n",
            "43/43 [==============================] - 0s 4ms/step - loss: 69.0022 - accuracy: 0.0696 - val_loss: 73.6373 - val_accuracy: 0.0267\n",
            "Epoch 7/50\n",
            "43/43 [==============================] - 0s 3ms/step - loss: 68.7242 - accuracy: 0.0504 - val_loss: 73.1902 - val_accuracy: 0.0133\n",
            "Epoch 8/50\n",
            "43/43 [==============================] - 0s 3ms/step - loss: 67.9893 - accuracy: 0.0267 - val_loss: 72.1656 - val_accuracy: 0.0000e+00\n",
            "Epoch 9/50\n",
            "43/43 [==============================] - 0s 4ms/step - loss: 66.3618 - accuracy: 0.0193 - val_loss: 69.5427 - val_accuracy: 0.0000e+00\n",
            "Epoch 10/50\n",
            "43/43 [==============================] - 0s 3ms/step - loss: 62.6080 - accuracy: 0.0074 - val_loss: 63.0604 - val_accuracy: 0.0000e+00\n",
            "Epoch 11/50\n",
            "43/43 [==============================] - 0s 3ms/step - loss: 53.7190 - accuracy: 0.0089 - val_loss: 48.6276 - val_accuracy: 0.0000e+00\n",
            "Epoch 12/50\n",
            "43/43 [==============================] - 0s 3ms/step - loss: 47.5312 - accuracy: 0.0015 - val_loss: 36.7434 - val_accuracy: 0.0000e+00\n",
            "Epoch 13/50\n",
            "43/43 [==============================] - 0s 4ms/step - loss: 44.6018 - accuracy: 0.0044 - val_loss: 34.3492 - val_accuracy: 0.0000e+00\n",
            "Epoch 14/50\n",
            "43/43 [==============================] - 0s 3ms/step - loss: 42.5906 - accuracy: 0.0015 - val_loss: 30.7493 - val_accuracy: 0.0000e+00\n",
            "Epoch 15/50\n",
            "43/43 [==============================] - 0s 3ms/step - loss: 43.1127 - accuracy: 0.0000e+00 - val_loss: 29.4573 - val_accuracy: 0.0000e+00\n",
            "Epoch 16/50\n",
            "43/43 [==============================] - 0s 4ms/step - loss: 42.1010 - accuracy: 0.0015 - val_loss: 29.1693 - val_accuracy: 0.0000e+00\n",
            "Epoch 17/50\n",
            "43/43 [==============================] - 0s 3ms/step - loss: 41.1550 - accuracy: 0.0015 - val_loss: 30.5227 - val_accuracy: 0.0000e+00\n",
            "Epoch 18/50\n",
            "43/43 [==============================] - 0s 3ms/step - loss: 41.7212 - accuracy: 0.0000e+00 - val_loss: 29.5501 - val_accuracy: 0.0000e+00\n",
            "Epoch 19/50\n",
            "43/43 [==============================] - 0s 3ms/step - loss: 41.8919 - accuracy: 0.0044 - val_loss: 31.0570 - val_accuracy: 0.0000e+00\n",
            "Epoch 20/50\n",
            "43/43 [==============================] - 0s 3ms/step - loss: 41.9724 - accuracy: 0.0030 - val_loss: 28.8549 - val_accuracy: 0.0000e+00\n",
            "Epoch 21/50\n",
            "43/43 [==============================] - 0s 4ms/step - loss: 41.5122 - accuracy: 0.0044 - val_loss: 29.5530 - val_accuracy: 0.0000e+00\n",
            "Epoch 22/50\n",
            "43/43 [==============================] - 0s 4ms/step - loss: 39.9535 - accuracy: 0.0000e+00 - val_loss: 29.2878 - val_accuracy: 0.0000e+00\n",
            "Epoch 23/50\n",
            "43/43 [==============================] - 0s 3ms/step - loss: 39.4531 - accuracy: 0.0015 - val_loss: 28.3105 - val_accuracy: 0.0000e+00\n",
            "Epoch 24/50\n",
            "43/43 [==============================] - 0s 3ms/step - loss: 38.7515 - accuracy: 0.0030 - val_loss: 28.5280 - val_accuracy: 0.0000e+00\n",
            "Epoch 25/50\n",
            "43/43 [==============================] - 0s 4ms/step - loss: 39.0845 - accuracy: 0.0044 - val_loss: 29.0643 - val_accuracy: 0.0000e+00\n",
            "Epoch 26/50\n",
            "43/43 [==============================] - 0s 3ms/step - loss: 38.9275 - accuracy: 0.0044 - val_loss: 27.2336 - val_accuracy: 0.0000e+00\n",
            "Epoch 27/50\n",
            "43/43 [==============================] - 0s 3ms/step - loss: 38.0078 - accuracy: 0.0015 - val_loss: 28.2314 - val_accuracy: 0.0000e+00\n",
            "Epoch 28/50\n",
            "43/43 [==============================] - 0s 3ms/step - loss: 39.4342 - accuracy: 0.0015 - val_loss: 27.1490 - val_accuracy: 0.0000e+00\n",
            "Epoch 29/50\n",
            "43/43 [==============================] - 0s 4ms/step - loss: 39.2477 - accuracy: 0.0044 - val_loss: 26.4365 - val_accuracy: 0.0000e+00\n",
            "Epoch 30/50\n",
            "43/43 [==============================] - 0s 3ms/step - loss: 39.3490 - accuracy: 0.0015 - val_loss: 24.5788 - val_accuracy: 0.0000e+00\n",
            "Epoch 31/50\n",
            "43/43 [==============================] - 0s 3ms/step - loss: 38.1383 - accuracy: 0.0015 - val_loss: 25.0701 - val_accuracy: 0.0000e+00\n",
            "Epoch 32/50\n",
            "43/43 [==============================] - 0s 3ms/step - loss: 38.3316 - accuracy: 0.0000e+00 - val_loss: 27.0880 - val_accuracy: 0.0000e+00\n",
            "Epoch 33/50\n",
            "43/43 [==============================] - 0s 3ms/step - loss: 37.9970 - accuracy: 0.0030 - val_loss: 26.8531 - val_accuracy: 0.0000e+00\n",
            "Epoch 34/50\n",
            "43/43 [==============================] - 0s 3ms/step - loss: 37.1055 - accuracy: 0.0015 - val_loss: 25.8866 - val_accuracy: 0.0000e+00\n",
            "Epoch 35/50\n",
            "43/43 [==============================] - 0s 3ms/step - loss: 37.2232 - accuracy: 0.0015 - val_loss: 25.0527 - val_accuracy: 0.0000e+00\n",
            "Epoch 36/50\n",
            "43/43 [==============================] - 0s 3ms/step - loss: 36.3127 - accuracy: 0.0015 - val_loss: 25.8609 - val_accuracy: 0.0000e+00\n",
            "Epoch 37/50\n",
            "43/43 [==============================] - 0s 4ms/step - loss: 37.8230 - accuracy: 0.0000e+00 - val_loss: 24.4930 - val_accuracy: 0.0000e+00\n",
            "Epoch 38/50\n",
            "43/43 [==============================] - 0s 4ms/step - loss: 36.8092 - accuracy: 0.0030 - val_loss: 23.4595 - val_accuracy: 0.0000e+00\n",
            "Epoch 39/50\n",
            "43/43 [==============================] - 0s 4ms/step - loss: 34.3629 - accuracy: 0.0015 - val_loss: 23.1810 - val_accuracy: 0.0000e+00\n",
            "Epoch 40/50\n",
            "43/43 [==============================] - 0s 3ms/step - loss: 35.9298 - accuracy: 0.0015 - val_loss: 23.3490 - val_accuracy: 0.0000e+00\n",
            "Epoch 41/50\n",
            "43/43 [==============================] - 0s 3ms/step - loss: 36.5750 - accuracy: 0.0000e+00 - val_loss: 24.6621 - val_accuracy: 0.0000e+00\n",
            "Epoch 42/50\n",
            "43/43 [==============================] - 0s 3ms/step - loss: 35.8852 - accuracy: 0.0000e+00 - val_loss: 22.8299 - val_accuracy: 0.0000e+00\n",
            "Epoch 43/50\n",
            "43/43 [==============================] - 0s 3ms/step - loss: 36.2391 - accuracy: 0.0015 - val_loss: 22.5445 - val_accuracy: 0.0000e+00\n",
            "Epoch 44/50\n",
            "43/43 [==============================] - 0s 3ms/step - loss: 36.1232 - accuracy: 0.0000e+00 - val_loss: 25.8711 - val_accuracy: 0.0000e+00\n",
            "Epoch 45/50\n",
            "43/43 [==============================] - 0s 3ms/step - loss: 36.0943 - accuracy: 0.0015 - val_loss: 25.4279 - val_accuracy: 0.0000e+00\n",
            "Epoch 46/50\n",
            "43/43 [==============================] - 0s 3ms/step - loss: 35.8757 - accuracy: 0.0000e+00 - val_loss: 24.3162 - val_accuracy: 0.0000e+00\n",
            "Epoch 47/50\n",
            "43/43 [==============================] - 0s 3ms/step - loss: 36.5748 - accuracy: 0.0015 - val_loss: 24.3389 - val_accuracy: 0.0000e+00\n",
            "Epoch 48/50\n",
            "43/43 [==============================] - 0s 4ms/step - loss: 35.8216 - accuracy: 0.0000e+00 - val_loss: 23.5534 - val_accuracy: 0.0000e+00\n",
            "Epoch 49/50\n",
            "43/43 [==============================] - 0s 3ms/step - loss: 37.0160 - accuracy: 0.0000e+00 - val_loss: 23.3997 - val_accuracy: 0.0000e+00\n",
            "Epoch 50/50\n",
            "43/43 [==============================] - 0s 3ms/step - loss: 36.3939 - accuracy: 0.0000e+00 - val_loss: 23.3483 - val_accuracy: 0.0000e+00\n"
          ]
        }
      ]
    },
    {
      "cell_type": "code",
      "source": [
        "model.summary()"
      ],
      "metadata": {
        "colab": {
          "base_uri": "https://localhost:8080/"
        },
        "id": "VMVqlh8ijc4A",
        "outputId": "49657d78-0f53-4fb9-b12a-d7439202d989"
      },
      "execution_count": null,
      "outputs": [
        {
          "output_type": "stream",
          "name": "stdout",
          "text": [
            "Model: \"sequential_15\"\n",
            "_________________________________________________________________\n",
            " Layer (type)                Output Shape              Param #   \n",
            "=================================================================\n",
            " dense_92 (Dense)            (None, 128)               640       \n",
            "                                                                 \n",
            " dropout_77 (Dropout)        (None, 128)               0         \n",
            "                                                                 \n",
            " dense_93 (Dense)            (None, 64)                8256      \n",
            "                                                                 \n",
            " dropout_78 (Dropout)        (None, 64)                0         \n",
            "                                                                 \n",
            " dense_94 (Dense)            (None, 64)                4160      \n",
            "                                                                 \n",
            " dropout_79 (Dropout)        (None, 64)                0         \n",
            "                                                                 \n",
            " dense_95 (Dense)            (None, 32)                2080      \n",
            "                                                                 \n",
            " dropout_80 (Dropout)        (None, 32)                0         \n",
            "                                                                 \n",
            " dense_96 (Dense)            (None, 32)                1056      \n",
            "                                                                 \n",
            " dropout_81 (Dropout)        (None, 32)                0         \n",
            "                                                                 \n",
            " dense_97 (Dense)            (None, 16)                528       \n",
            "                                                                 \n",
            " dropout_82 (Dropout)        (None, 16)                0         \n",
            "                                                                 \n",
            " dense_98 (Dense)            (None, 1)                 17        \n",
            "                                                                 \n",
            "=================================================================\n",
            "Total params: 16,737\n",
            "Trainable params: 16,737\n",
            "Non-trainable params: 0\n",
            "_________________________________________________________________\n"
          ]
        }
      ]
    },
    {
      "cell_type": "code",
      "source": [
        "plt.figure(figsize=[20,8])\n",
        "\n",
        "# summarize history for accuracy\n",
        "plt.subplot(1,2,1)\n",
        "plt.plot(history.history['accuracy'])\n",
        "plt.plot(history.history['val_accuracy'])\n",
        "plt.title('Model Accuracy', size=25, pad=20)\n",
        "plt.ylabel('Accuracy', size=15)\n",
        "plt.xlabel('Epoch', size=15)\n",
        "plt.legend(['train', 'test'], loc='upper left')"
      ],
      "metadata": {
        "colab": {
          "base_uri": "https://localhost:8080/",
          "height": 559
        },
        "id": "aIs9G0wRHiE-",
        "outputId": "ee093721-c411-4e1f-fab7-4827ec2c4d96"
      },
      "execution_count": null,
      "outputs": [
        {
          "output_type": "execute_result",
          "data": {
            "text/plain": [
              "<matplotlib.legend.Legend at 0x7f8cb36e0e50>"
            ]
          },
          "metadata": {},
          "execution_count": 163
        },
        {
          "output_type": "display_data",
          "data": {
            "text/plain": [
              "<Figure size 1440x576 with 1 Axes>"
            ],
            "image/png": "[encoded data removed]"
          },
          "metadata": {
            "needs_background": "light"
          }
        }
      ]
    },
    {
      "cell_type": "code",
      "source": [
        "y"
      ],
      "metadata": {
        "colab": {
          "base_uri": "https://localhost:8080/"
        },
        "id": "MpC_Vo_xQ5kT",
        "outputId": "2dca37de-a833-4ab4-8079-7fe1b1d4d613"
      },
      "execution_count": null,
      "outputs": [
        {
          "output_type": "execute_result",
          "data": {
            "text/plain": [
              "0       0.00\n",
              "1       0.00\n",
              "2       0.00\n",
              "3       0.00\n",
              "4       0.00\n",
              "       ...  \n",
              "745    90.22\n",
              "746    94.61\n",
              "747    90.48\n",
              "748    86.44\n",
              "749    82.35\n",
              "Name: Response, Length: 750, dtype: float64"
            ]
          },
          "metadata": {},
          "execution_count": 164
        }
      ]
    },
    {
      "cell_type": "code",
      "source": [
        ""
      ],
      "metadata": {
        "id": "V4AWNVyrZzKL"
      },
      "execution_count": null,
      "outputs": []
    }
  ]
}